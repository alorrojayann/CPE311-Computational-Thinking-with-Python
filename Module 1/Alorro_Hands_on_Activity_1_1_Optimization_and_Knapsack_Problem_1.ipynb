{
  "cells": [
    {
      "cell_type": "markdown",
      "id": "193686ba",
      "metadata": {
        "id": "193686ba"
      },
      "source": [
        "# Hands-on Activity 1.1 | Optimization and Knapsack Problem"
      ]
    },
    {
      "cell_type": "markdown",
      "id": "8d87e989",
      "metadata": {
        "id": "8d87e989"
      },
      "source": [
        "#### Objective(s):\n",
        "\n",
        "This activity aims to demonstrate how to apply  greedy and brute force algorithms to solve optimization problems"
      ]
    },
    {
      "cell_type": "markdown",
      "id": "7717a27a",
      "metadata": {
        "id": "7717a27a"
      },
      "source": [
        "#### Intended Learning Outcomes (ILOs):\n",
        "* Demonstrate how to solve knapsacks problems using greedy algorithm\n",
        "* Demonstrate how to  solve knapsacks problems using brute force algorithm\n"
      ]
    },
    {
      "cell_type": "markdown",
      "id": "6454cfe7",
      "metadata": {
        "id": "6454cfe7"
      },
      "source": [
        "#### Resources:\n",
        "* Jupyter Notebook\n"
      ]
    },
    {
      "cell_type": "markdown",
      "id": "433711ac",
      "metadata": {
        "id": "433711ac"
      },
      "source": [
        "#### Procedures:"
      ]
    },
    {
      "cell_type": "markdown",
      "id": "e54a8995",
      "metadata": {
        "id": "e54a8995"
      },
      "source": [
        "1. Create a Food class that defines the following:\n",
        "* name of the food\n",
        "* value of the food\n",
        "* calories of the food\n",
        "\n",
        "2. Create the following methods inside the Food class:\n",
        "* A method that returns the value of the food\n",
        "* A method that returns the cost of the food\n",
        "* A method that calculates the density of the food (Value / Cost)\n",
        "* A method that returns a string to display the name, value and calories of the food"
      ]
    },
    {
      "cell_type": "code",
      "execution_count": null,
      "id": "cdd8310c",
      "metadata": {
        "id": "cdd8310c"
      },
      "outputs": [],
      "source": [
        "class Food(object):\n",
        "    def __init__(self, n, v, w):\n",
        "      # Make the variables private\n",
        "        self.__name = n\n",
        "        self.__value = v\n",
        "        self.__calories = w\n",
        "    def getValue(self):\n",
        "        return self.value\n",
        "    def getCost(self):\n",
        "        return self.calories\n",
        "    def density(self):\n",
        "        return self.getValue()/self.getCost()\n",
        "    def __str__(self):\n",
        "        return self.name + ': <' + str(self.value)+ ', ' + str(self.calories) + '>'"
      ]
    },
    {
      "cell_type": "markdown",
      "id": "b36eee15",
      "metadata": {
        "id": "b36eee15"
      },
      "source": [
        "3. Create a buildMenu method that builds the name, value and calories of the food\n"
      ]
    },
    {
      "cell_type": "code",
      "execution_count": null,
      "id": "509672a4",
      "metadata": {
        "id": "509672a4"
      },
      "outputs": [],
      "source": [
        "def buildMenu(names, values, calories):\n",
        "    menu = []\n",
        "    for i in range(len(values)):\n",
        "        menu.append(Food(names[i], values[i],calories[i]))\n",
        "    return menu"
      ]
    },
    {
      "cell_type": "markdown",
      "id": "86f3a85b",
      "metadata": {
        "id": "86f3a85b"
      },
      "source": [
        "4. Create a method greedy to return total value and cost of added food based on the desired maximum cost"
      ]
    },
    {
      "cell_type": "code",
      "execution_count": null,
      "id": "b76912f0",
      "metadata": {
        "id": "b76912f0"
      },
      "outputs": [],
      "source": [
        "def greedy(items, maxCost, keyFunction):\n",
        "    \"\"\"Assumes items a list, maxCost >= 0,         keyFunction maps elements of items to numbers\"\"\"\n",
        "    itemsCopy = sorted(items, key = keyFunction,\n",
        "                       reverse = True)\n",
        "    result = []\n",
        "    totalValue, totalCost = 0.0, 0.0\n",
        "    for i in range(len(itemsCopy)):\n",
        "        if (totalCost+itemsCopy[i].getCost()) <= maxCost:\n",
        "            result.append(itemsCopy[i])\n",
        "            totalCost += itemsCopy[i].getCost()\n",
        "            totalValue += itemsCopy[i].getValue()\n",
        "    return (result, totalValue)"
      ]
    },
    {
      "cell_type": "markdown",
      "id": "887c566c",
      "metadata": {
        "id": "887c566c"
      },
      "source": [
        "5. Create a testGreedy method to test the greedy method"
      ]
    },
    {
      "cell_type": "code",
      "execution_count": null,
      "id": "61f2a7b0",
      "metadata": {
        "id": "61f2a7b0"
      },
      "outputs": [],
      "source": [
        "def testGreedy(items, constraint, keyFunction):\n",
        "    taken, val = greedy(items, constraint, keyFunction)\n",
        "    print('Total value of items taken =', val)\n",
        "    for item in taken:\n",
        "        print('   ', item)"
      ]
    },
    {
      "cell_type": "code",
      "execution_count": null,
      "id": "f93e5bfe",
      "metadata": {
        "id": "f93e5bfe"
      },
      "outputs": [],
      "source": [
        "def testGreedys(foods, maxUnits):\n",
        "    print('Use greedy by value to allocate', maxUnits,          'calories')\n",
        "    testGreedy(foods, maxUnits, Food.getValue)\n",
        "    print('\\nUse greedy by cost to allocate', maxUnits,          'calories')\n",
        "    testGreedy(foods, maxUnits, lambda x: 1/Food.getCost(x))\n",
        "    print('\\nUse greedy by density to allocate', maxUnits,          'calories')\n",
        "    testGreedy(foods, maxUnits, Food.density)"
      ]
    },
    {
      "cell_type": "markdown",
      "id": "cdf99f37",
      "metadata": {
        "id": "cdf99f37"
      },
      "source": [
        "6. Create arrays of food name, values and calories\n",
        "7. Call the buildMenu to create menu for food\n",
        "8. Use testGreedys method to pick food according to the desired calories"
      ]
    },
    {
      "cell_type": "code",
      "execution_count": null,
      "id": "ee22c2dd",
      "metadata": {
        "id": "ee22c2dd",
        "outputId": "d17cf8cd-d18e-43c0-c80a-f5b1d3193087",
        "colab": {
          "base_uri": "https://localhost:8080/"
        }
      },
      "outputs": [
        {
          "output_type": "stream",
          "name": "stdout",
          "text": [
            "Use greedy by value to allocate 2000 calories\n",
            "Total value of items taken = 603.0\n",
            "    burger: <100, 354>\n",
            "    pizza: <95, 258>\n",
            "    beer: <90, 154>\n",
            "    fries: <90, 365>\n",
            "    wine: <89, 123>\n",
            "    cola: <79, 150>\n",
            "    apple: <50, 95>\n",
            "    donut: <10, 195>\n",
            "\n",
            "Use greedy by cost to allocate 2000 calories\n",
            "Total value of items taken = 603.0\n",
            "    apple: <50, 95>\n",
            "    wine: <89, 123>\n",
            "    cola: <79, 150>\n",
            "    beer: <90, 154>\n",
            "    donut: <10, 195>\n",
            "    pizza: <95, 258>\n",
            "    burger: <100, 354>\n",
            "    fries: <90, 365>\n",
            "\n",
            "Use greedy by density to allocate 2000 calories\n",
            "Total value of items taken = 603.0\n",
            "    wine: <89, 123>\n",
            "    beer: <90, 154>\n",
            "    cola: <79, 150>\n",
            "    apple: <50, 95>\n",
            "    pizza: <95, 258>\n",
            "    burger: <100, 354>\n",
            "    fries: <90, 365>\n",
            "    donut: <10, 195>\n"
          ]
        }
      ],
      "source": [
        "names = ['wine', 'beer', 'pizza', 'burger', 'fries','cola', 'apple', 'donut', 'cake']\n",
        "values = [89,90,95,100,90,79,50,10]\n",
        "calories = [123,154,258,354,365,150,95,195]\n",
        "foods = buildMenu(names, values, calories)\n",
        "testGreedys(foods, 2000)"
      ]
    },
    {
      "cell_type": "markdown",
      "id": "a6bae808",
      "metadata": {
        "id": "a6bae808"
      },
      "source": [
        "Task 1: Change the maxUnits to 100"
      ]
    },
    {
      "cell_type": "code",
      "execution_count": null,
      "id": "3c9655c5",
      "metadata": {
        "id": "3c9655c5",
        "colab": {
          "base_uri": "https://localhost:8080/"
        },
        "outputId": "8c84b5cd-8d77-4ade-94f4-7f6596c72e30"
      },
      "outputs": [
        {
          "output_type": "stream",
          "name": "stdout",
          "text": [
            "Use greedy by value to allocate 100 calories\n",
            "Total value of items taken = 50.0\n",
            "    apple: <50, 95>\n",
            "\n",
            "Use greedy by cost to allocate 100 calories\n",
            "Total value of items taken = 50.0\n",
            "    apple: <50, 95>\n",
            "\n",
            "Use greedy by density to allocate 100 calories\n",
            "Total value of items taken = 50.0\n",
            "    apple: <50, 95>\n"
          ]
        }
      ],
      "source": [
        "#type your code here\n",
        "names = ['wine', 'beer', 'pizza', 'burger', 'fries','cola', 'apple', 'donut', 'cake']\n",
        "values = [89,90,95,100,90,79,50,10]\n",
        "calories = [123,154,258,354,365,150,95,195]\n",
        "foods = buildMenu(names, values, calories)\n",
        "testGreedys(foods, 100) #maxUnits changed from 2000 to 100"
      ]
    },
    {
      "cell_type": "markdown",
      "id": "d13f4bdc",
      "metadata": {
        "id": "d13f4bdc"
      },
      "source": [
        "Task 2: Modify codes to add additional weight (criterion) to select food items."
      ]
    },
    {
      "cell_type": "code",
      "execution_count": null,
      "id": "61fd22fa",
      "metadata": {
        "id": "61fd22fa"
      },
      "outputs": [],
      "source": [
        "# type your code here\n",
        "def greedy(items, maxCost, keyFunction, secondKeyFunction=None):\n",
        "    \"\"\"Assumes items a list, maxCost >= 0,\n",
        "       keyFunction maps elements of items to numbers\n",
        "       secondKeyFunction maps elements, items to numbers\"\"\"\n",
        "    itemsCopy = sorted(items, key=lambda x: (keyFunction(x), secondKeyFunction(x) if secondKeyFunction else None),\n",
        "                       reverse=True)\n",
        "    result = []\n",
        "    totalValue, totalCost = 0.0, 0.0\n",
        "    for i in range(len(itemsCopy)):\n",
        "        if (totalCost + itemsCopy[i].getCost()) <= maxCost:\n",
        "            result.append(itemsCopy[i])\n",
        "            totalCost += itemsCopy[i].getCost()\n",
        "            totalValue += itemsCopy[i].getValue()\n",
        "    return (result, totalValue)"
      ]
    },
    {
      "cell_type": "code",
      "source": [
        "def testGreedy(items, constraint, keyFunction, secondKeyFunction=None):\n",
        "    taken, val = greedy(items, constraint, keyFunction, secondKeyFunction)\n",
        "    print('Total value of items taken =', val)\n",
        "    for item in taken:\n",
        "        print('   ', item)"
      ],
      "metadata": {
        "id": "H9-DzHA64ozE"
      },
      "id": "H9-DzHA64ozE",
      "execution_count": null,
      "outputs": []
    },
    {
      "cell_type": "code",
      "source": [
        "def testGreedys(foods, maxUnits):\n",
        "    print('Use greedy by value to allocate', maxUnits, 'calories')\n",
        "    testGreedy(foods, maxUnits, Food.getValue)\n",
        "    print('\\nUse greedy by cost to allocate', maxUnits, 'calories')\n",
        "    testGreedy(foods, maxUnits, lambda x: 1 / Food.getCost(x))\n",
        "    print('\\nUse greedy by density to allocate', maxUnits, 'calories')\n",
        "    testGreedy(foods, maxUnits, Food.density)\n",
        "    print('\\nUse greedy by value with additional weight to allocate', maxUnits, 'calories')\n",
        "    testGreedy(foods, maxUnits, Food.getValue, lambda x: x.calories)  # addtional weight based on calories"
      ],
      "metadata": {
        "id": "pThjhJOF3Z6M"
      },
      "id": "pThjhJOF3Z6M",
      "execution_count": null,
      "outputs": []
    },
    {
      "cell_type": "markdown",
      "id": "ba95a8c6",
      "metadata": {
        "id": "ba95a8c6"
      },
      "source": [
        "Task 3: Test your modified code to test the greedy algorithm to select food items with your additional weight."
      ]
    },
    {
      "cell_type": "code",
      "execution_count": null,
      "id": "9d9b25c1",
      "metadata": {
        "id": "9d9b25c1",
        "colab": {
          "base_uri": "https://localhost:8080/"
        },
        "outputId": "fd22fc34-0cbc-479e-aa73-b3dcc770388a"
      },
      "outputs": [
        {
          "output_type": "stream",
          "name": "stdout",
          "text": [
            "Use greedy by value to allocate 1000 calories\n",
            "Total value of items taken = 424.0\n",
            "    burger: <100, 354>\n",
            "    pizza: <95, 258>\n",
            "    beer: <90, 154>\n",
            "    wine: <89, 123>\n",
            "    apple: <50, 95>\n",
            "\n",
            "Use greedy by cost to allocate 1000 calories\n",
            "Total value of items taken = 413.0\n",
            "    apple: <50, 95>\n",
            "    wine: <89, 123>\n",
            "    cola: <79, 150>\n",
            "    beer: <90, 154>\n",
            "    donut: <10, 195>\n",
            "    pizza: <95, 258>\n",
            "\n",
            "Use greedy by density to allocate 1000 calories\n",
            "Total value of items taken = 413.0\n",
            "    wine: <89, 123>\n",
            "    beer: <90, 154>\n",
            "    cola: <79, 150>\n",
            "    apple: <50, 95>\n",
            "    pizza: <95, 258>\n",
            "    donut: <10, 195>\n",
            "\n",
            "Use greedy by value with additional weight to allocate 1000 calories\n",
            "Total value of items taken = 285.0\n",
            "    burger: <100, 354>\n",
            "    pizza: <95, 258>\n",
            "    fries: <90, 365>\n"
          ]
        }
      ],
      "source": [
        "# type your code here\n",
        "testGreedys(foods, 1000) hello world khfksjhf skjfhskjfhdjkfhsdjkfhf dhfkjsdhf sjkhd fjkdhfkjshhsd"
      ]
    },
    {
      "cell_type": "markdown",
      "id": "1baef0aa",
      "metadata": {
        "id": "1baef0aa"
      },
      "source": [
        "9. Create method to use  Bruteforce algorithm instead of greedy algorithm"
      ]
    },
    {
      "cell_type": "code",
      "execution_count": null,
      "id": "3f61953e",
      "metadata": {
        "id": "3f61953e"
      },
      "outputs": [],
      "source": [
        "def maxVal(toConsider, avail):\n",
        "    \"\"\"Assumes toConsider a list of items, avail a weight\n",
        "       Returns a tuple of the total value of a solution to the\n",
        "         0/1 knapsack problem and the items of that solution\"\"\"\n",
        "    if toConsider == [] or avail == 0:\n",
        "        result = (0, ())\n",
        "    elif toConsider[0].getCost() > avail:\n",
        "        #Explore right branch only\n",
        "        result = maxVal(toConsider[1:], avail)\n",
        "    else:\n",
        "        nextItem = toConsider[0]\n",
        "        #Explore left branch\n",
        "        withVal, withToTake = maxVal(toConsider[1:],\n",
        "                                     avail - nextItem.getCost())\n",
        "        withVal += nextItem.getValue()\n",
        "        #Explore right branch\n",
        "        withoutVal, withoutToTake = maxVal(toConsider[1:], avail)\n",
        "        #Choose better branch\n",
        "        if withVal > withoutVal:\n",
        "            result = (withVal, withToTake + (nextItem,))\n",
        "        else:\n",
        "            result = (withoutVal, withoutToTake)\n",
        "    return result"
      ]
    },
    {
      "cell_type": "code",
      "execution_count": null,
      "id": "601e6dfe",
      "metadata": {
        "id": "601e6dfe"
      },
      "outputs": [],
      "source": [
        "def testMaxVal(foods, maxUnits, printItems = True):\n",
        "    print('Use search tree to allocate', maxUnits,\n",
        "          'calories')\n",
        "    val, taken = maxVal(foods, maxUnits)\n",
        "    print('Total costs of foods taken =', val)\n",
        "    if printItems:\n",
        "        for item in taken:\n",
        "            print('   ', item)"
      ]
    },
    {
      "cell_type": "code",
      "execution_count": null,
      "id": "f4c33d92",
      "metadata": {
        "id": "f4c33d92",
        "outputId": "e14fcc86-7eec-42c1-8014-968b17663281"
      },
      "outputs": [
        {
          "name": "stdout",
          "output_type": "stream",
          "text": [
            "Use search tree to allocate 2400 calories\n",
            "Total costs of foods taken = 603\n",
            "    donut: <10, 195>\n",
            "    apple: <50, 95>\n",
            "    cola: <79, 150>\n",
            "    fries: <90, 365>\n",
            "    burger: <100, 354>\n",
            "    pizza: <95, 258>\n",
            "    beer: <90, 154>\n",
            "    wine: <89, 123>\n"
          ]
        }
      ],
      "source": [
        "names = ['wine', 'beer', 'pizza', 'burger', 'fries','cola', 'apple', 'donut', 'cake']\n",
        "values = [89,90,95,100,90,79,50,10]\n",
        "calories = [123,154,258,354,365,150,95,195]\n",
        "foods = buildMenu(names, values, calories)\n",
        "testMaxVal(foods, 2400)"
      ]
    },
    {
      "cell_type": "markdown",
      "id": "5e8ee81f",
      "metadata": {
        "id": "5e8ee81f"
      },
      "source": [
        "#### Supplementary Activity:"
      ]
    },
    {
      "cell_type": "markdown",
      "id": "f7eb02e1",
      "metadata": {
        "id": "f7eb02e1"
      },
      "source": [
        "* Choose a real-world problem that solves knapsacks problem\n",
        "* Use the greedy and brute force algorithm to solve knapsacks problem\n"
      ]
    },
    {
      "cell_type": "markdown",
      "source": [
        "Problem:\n",
        "- You are in a bookstore having a specific amount of money. The goal is to pick however number of books according to the given constraint (budget) that contains the best ratings/review (1-5)."
      ],
      "metadata": {
        "id": "dL1rF2fw5VZB"
      },
      "id": "dL1rF2fw5VZB"
    },
    {
      "cell_type": "code",
      "source": [
        "# greedy method\n",
        "\n",
        "class Books(object):\n",
        "  def __init__(self, n, v, w):\n",
        "    self.title = n\n",
        "    self.rating = v\n",
        "    self.price = w\n",
        "  def getRating(self):\n",
        "    return self.rating\n",
        "  def getCost(self):\n",
        "    return self.price\n",
        "  def __str__(self):\n",
        "    return self.title + ': <' + str(self.rating) + ', ' + str(self.price) + '>'"
      ],
      "metadata": {
        "id": "1MwVyGlS5S6R"
      },
      "id": "1MwVyGlS5S6R",
      "execution_count": null,
      "outputs": []
    },
    {
      "cell_type": "code",
      "source": [
        "def buildBasket(title, rating, price):\n",
        "    basket = []\n",
        "    for i in range(len(rating)):\n",
        "        basket.append(Books(title[i], rating[i], price[i]))\n",
        "    return basket"
      ],
      "metadata": {
        "id": "VEHOZfYN5TFR"
      },
      "id": "VEHOZfYN5TFR",
      "execution_count": null,
      "outputs": []
    },
    {
      "cell_type": "code",
      "source": [
        "def greedy(books, maxCost, keyFunction):\n",
        "  booksCopy = sorted(books, key = keyFunction, reverse = True)\n",
        "  result = []\n",
        "  totalRating, totalCost = 0.0, 0.0\n",
        "  for i in range(len(booksCopy)):\n",
        "    if(totalCost+booksCopy[i].getCost()) <= maxCost:\n",
        "      result.append(booksCopy[i])\n",
        "      totalCost += booksCopy[i].getCost()\n",
        "      totalRating += booksCopy[i].getRating()\n",
        "  return (result, totalRating)"
      ],
      "metadata": {
        "id": "90Y6wFs27Rjj"
      },
      "id": "90Y6wFs27Rjj",
      "execution_count": null,
      "outputs": []
    },
    {
      "cell_type": "code",
      "source": [
        "def testGreedy(books, constraint, keyFunction):\n",
        "    taken, val = greedy(books, constraint, keyFunction)\n",
        "    print('Rating of books taken =', val)\n",
        "    for book in taken:\n",
        "        print('   ', book)"
      ],
      "metadata": {
        "id": "qO8x5uYb7VBr"
      },
      "id": "qO8x5uYb7VBr",
      "execution_count": null,
      "outputs": []
    },
    {
      "cell_type": "code",
      "source": [
        "def testGreedys(books, maxCost):\n",
        "    print('Use greedy by ratings to allocate', maxCost, 'pesos')\n",
        "    testGreedy(books, maxCost, Books.getRating)\n",
        "    print('\\nUse greedy by cost to allocate', maxCost, 'pesos')\n",
        "    testGreedy(books, maxCost, lambda x: 1/Books.getCost(x))"
      ],
      "metadata": {
        "id": "zZAzRz187Wwb"
      },
      "id": "zZAzRz187Wwb",
      "execution_count": null,
      "outputs": []
    },
    {
      "cell_type": "code",
      "source": [
        "title = ['book1', 'book2', 'book3', 'book4', 'book5','book6', 'book7', 'book8']\n",
        "ratings = [2,5,3,4.5,5,4,2,5]\n",
        "price = [599,650,600,435,550,499,399,499]\n",
        "books = buildBasket(title, ratings, price)\n",
        "testGreedys(books, 2000)"
      ],
      "metadata": {
        "colab": {
          "base_uri": "https://localhost:8080/"
        },
        "id": "G9FypiUi7Zfj",
        "outputId": "c68816d1-f2d3-4ec6-d086-ef6c650be6ff"
      },
      "id": "G9FypiUi7Zfj",
      "execution_count": null,
      "outputs": [
        {
          "output_type": "stream",
          "name": "stdout",
          "text": [
            "Use greedy by ratings to allocate 2000 pesos\n",
            "Rating of books taken = 15.0\n",
            "    book2: <5, 650>\n",
            "    book5: <5, 550>\n",
            "    book8: <5, 499>\n",
            "\n",
            "Use greedy by cost to allocate 2000 pesos\n",
            "Rating of books taken = 15.5\n",
            "    book7: <2, 399>\n",
            "    book4: <4.5, 435>\n",
            "    book6: <4, 499>\n",
            "    book8: <5, 499>\n"
          ]
        }
      ]
    },
    {
      "cell_type": "code",
      "source": [
        "# brute force method\n",
        "def bruteForce(books, maxCost):\n",
        "    n = len(books)\n",
        "    maxBooks = []\n",
        "    maxRating = 0.0\n",
        "\n",
        "    for i in range(2**n):\n",
        "        currentBooks = []\n",
        "        currentCost, currentRating = 0.0, 0.0\n",
        "\n",
        "        for j in range(n):\n",
        "            if (i & (1 << j)) > 0:\n",
        "                currentBooks.append(books[j])\n",
        "                currentCost += books[j].getCost()\n",
        "\n",
        "                currentRating += books[j].getRating()\n",
        "\n",
        "        if currentCost <= maxCost and currentRating > maxRating:\n",
        "            maxBooks = currentBooks\n",
        "            maxRating = currentRating\n",
        "\n",
        "    return (maxBooks, maxRating)"
      ],
      "metadata": {
        "id": "wFAB-fLCAB96"
      },
      "id": "wFAB-fLCAB96",
      "execution_count": null,
      "outputs": []
    },
    {
      "cell_type": "code",
      "source": [
        "def bruteForce(books, maxCost):\n",
        "    n = len(books)\n",
        "    maxBooks = []\n",
        "    maxRating = []\n",
        "\n",
        "    for i in range(2**n):\n",
        "        currentBooks = []\n",
        "        currentCost = 0.0\n",
        "        currentRating = []\n",
        "\n",
        "        for j in range(n):\n",
        "            if (i & (1 << j)) > 0:\n",
        "                currentBooks.append(books[j])\n",
        "                currentCost += books[j].getCost()\n",
        "                currentRating.append(books[j].getRating())\n",
        "\n",
        "        if currentCost <= maxCost and currentRating > maxRating:\n",
        "            maxBooks = currentBooks\n",
        "            maxRating = currentRating\n",
        "\n",
        "    return (maxBooks, maxRating)"
      ],
      "metadata": {
        "id": "Nj4AiQxsGU0i"
      },
      "id": "Nj4AiQxsGU0i",
      "execution_count": null,
      "outputs": []
    },
    {
      "cell_type": "code",
      "source": [
        "def testBruteForce(books, maxCost):\n",
        "    taken, val = bruteForce(books, maxCost)\n",
        "    print('Rating of books taken =', val)\n",
        "\n",
        "    for book in taken:\n",
        "        print('   ', book)"
      ],
      "metadata": {
        "id": "r1Ig5wLYFpKz"
      },
      "id": "r1Ig5wLYFpKz",
      "execution_count": null,
      "outputs": []
    },
    {
      "cell_type": "code",
      "source": [
        "title = ['book1', 'book2', 'book3', 'book4', 'book5','book6', 'book7', 'book8']\n",
        "ratings = [2,3,3,4.5,4.5,4,2,3]\n",
        "price = [599,650,600,435,550,499,399,499]\n",
        "books = buildBasket(title, ratings, price)\n",
        "testBruteForce(books, 1700)"
      ],
      "metadata": {
        "colab": {
          "base_uri": "https://localhost:8080/"
        },
        "id": "_mMgr1-mFqx5",
        "outputId": "03a45a93-3637-4f3f-f06e-f2c1161b7102"
      },
      "id": "_mMgr1-mFqx5",
      "execution_count": null,
      "outputs": [
        {
          "output_type": "stream",
          "name": "stdout",
          "text": [
            "Rating of books taken = [4.5, 4.5, 4]\n",
            "    book4: <4.5, 435>\n",
            "    book5: <4.5, 550>\n",
            "    book6: <4, 499>\n"
          ]
        }
      ]
    },
    {
      "cell_type": "markdown",
      "id": "8bbdd39c",
      "metadata": {
        "id": "8bbdd39c"
      },
      "source": [
        "#### Conclusion:"
      ]
    },
    {
      "cell_type": "markdown",
      "id": "fb608ce3",
      "metadata": {
        "id": "fb608ce3"
      },
      "source": [
        "In conclusion, this activity gave me an introduction to knapsack problems, how to implement greedy algorithm as well as brute force algorithm to it. I am not familiar with these concepts so it was quite confusing when understanding the code and how it works. But with the examples given, I already gained some basic knowledge with it. I still need to study this concept further because I still don't understand how some of it works, I just followed the example above and made it my own but with some different but still similar parameters and constraints. Still, I'm pleased with how it turned out and I got to manipulate the codes and made it do what I initially intended."
      ]
    },
    {
      "cell_type": "code",
      "source": [],
      "metadata": {
        "id": "JDAIMIKRJNEu"
      },
      "id": "JDAIMIKRJNEu",
      "execution_count": null,
      "outputs": []
    }
  ],
  "metadata": {
    "kernelspec": {
      "display_name": "Python 3",
      "language": "python",
      "name": "python3"
    },
    "language_info": {
      "codemirror_mode": {
        "name": "ipython",
        "version": 3
      },
      "file_extension": ".py",
      "mimetype": "text/x-python",
      "name": "python",
      "nbconvert_exporter": "python",
      "pygments_lexer": "ipython3",
      "version": "3.7.10"
    },
    "colab": {
      "provenance": []
    }
  },
  "nbformat": 4,
  "nbformat_minor": 5
}