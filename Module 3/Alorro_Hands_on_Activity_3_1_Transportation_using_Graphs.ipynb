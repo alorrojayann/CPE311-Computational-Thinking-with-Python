{
  "cells": [
    {
      "cell_type": "markdown",
      "id": "32f3b9e1",
      "metadata": {
        "id": "32f3b9e1"
      },
      "source": [
        "# Hands-on Activity 1.3 | Transportation using Graphs"
      ]
    },
    {
      "cell_type": "markdown",
      "id": "a51e92c8",
      "metadata": {
        "id": "a51e92c8"
      },
      "source": [
        "#### Objective(s):\n",
        "\n",
        "This activity aims to demonstrate how to solve transportation related problem using Graphs"
      ]
    },
    {
      "cell_type": "markdown",
      "id": "3d40df8b",
      "metadata": {
        "id": "3d40df8b"
      },
      "source": [
        "#### Intended Learning Outcomes (ILOs):\n",
        "* Demonstrate how to compute the shortest path from source to destination using graphs\n",
        "* Apply DFS and BFS to compute the shortest path"
      ]
    },
    {
      "cell_type": "markdown",
      "id": "ed8f98b6",
      "metadata": {
        "id": "ed8f98b6"
      },
      "source": [
        "#### Resources:\n",
        "* Jupyter Notebook"
      ]
    },
    {
      "cell_type": "markdown",
      "id": "36301665",
      "metadata": {
        "id": "36301665"
      },
      "source": [
        "#### Procedures:"
      ]
    },
    {
      "cell_type": "markdown",
      "id": "a2f20257",
      "metadata": {
        "id": "a2f20257"
      },
      "source": [
        "1. Create a Node class"
      ]
    },
    {
      "cell_type": "code",
      "execution_count": null,
      "id": "43c51c35",
      "metadata": {
        "id": "43c51c35"
      },
      "outputs": [],
      "source": [
        "class Node(object):\n",
        "    def __init__(self, name):\n",
        "        \"\"\"Assumes name is a string\"\"\"\n",
        "        self.name = name\n",
        "    def getName(self):\n",
        "        return self.name\n",
        "    def __str__(self):\n",
        "        return self.name"
      ]
    },
    {
      "cell_type": "markdown",
      "id": "d4cd747e",
      "metadata": {
        "id": "d4cd747e"
      },
      "source": [
        "2. Create an Edge class"
      ]
    },
    {
      "cell_type": "code",
      "execution_count": null,
      "id": "b585ad3a",
      "metadata": {
        "id": "b585ad3a"
      },
      "outputs": [],
      "source": [
        "class Edge(object):\n",
        "    def __init__(self, src, dest):\n",
        "        \"\"\"Assumes src and dest are nodes\"\"\"\n",
        "        self.src = src\n",
        "        self.dest = dest\n",
        "    def getSource(self):\n",
        "        return self.src\n",
        "    def getDestination(self):\n",
        "        return self.dest\n",
        "    def __str__(self):\n",
        "        return self.src.getName() + '->' + self.dest.getName()"
      ]
    },
    {
      "cell_type": "markdown",
      "id": "43fb73dd",
      "metadata": {
        "id": "43fb73dd"
      },
      "source": [
        "3. Create Digraph class that add nodes and edges"
      ]
    },
    {
      "cell_type": "code",
      "execution_count": null,
      "id": "68d3735b",
      "metadata": {
        "id": "68d3735b"
      },
      "outputs": [],
      "source": [
        "class Digraph(object):\n",
        "    \"\"\"edges is a dict mapping each node to a list of\n",
        "    its children\"\"\"\n",
        "    def __init__(self):\n",
        "        self.edges = {}\n",
        "    def addNode(self, node):\n",
        "        if node in self.edges:\n",
        "            raise ValueError('Duplicate node')\n",
        "        else:\n",
        "            self.edges[node] = []\n",
        "    def addEdge(self, edge):\n",
        "        src = edge.getSource()\n",
        "        dest = edge.getDestination()\n",
        "        if not (src in self.edges and dest in self.edges):\n",
        "            raise ValueError('Node not in graph')\n",
        "        self.edges[src].append(dest)\n",
        "    def childrenOf(self, node):\n",
        "        return self.edges[node]\n",
        "    def hasNode(self, node):\n",
        "        return node in self.edges\n",
        "    def getNode(self, name):\n",
        "        for n in self.edges:\n",
        "            if n.getName() == name:\n",
        "                return n\n",
        "        raise NameError(name)\n",
        "    def __str__(self):\n",
        "        result = ''\n",
        "        for src in self.edges:\n",
        "            for dest in self.edges[src]:\n",
        "                result = result + src.getName() + '->'\\\n",
        "                         + dest.getName() + '\\n'\n",
        "        return result[:-1] #omit final newline"
      ]
    },
    {
      "cell_type": "markdown",
      "id": "4df80036",
      "metadata": {
        "id": "4df80036"
      },
      "source": [
        "4. Create a Graph class from Digraph class that deifnes the destination and Source"
      ]
    },
    {
      "cell_type": "code",
      "execution_count": null,
      "id": "451f786f",
      "metadata": {
        "id": "451f786f"
      },
      "outputs": [],
      "source": [
        "class Graph(Digraph):\n",
        "    def addEdge(self, edge):\n",
        "        Digraph.addEdge(self, edge)\n",
        "        rev = Edge(edge.getDestination(), edge.getSource())\n",
        "        Digraph.addEdge(self, rev)"
      ]
    },
    {
      "cell_type": "markdown",
      "id": "a1834ccf",
      "metadata": {
        "id": "a1834ccf"
      },
      "source": [
        "5. Create a buildCityGraph method to add nodes (City) and edges   (source to destination)"
      ]
    },
    {
      "cell_type": "code",
      "execution_count": null,
      "id": "048f4f16",
      "metadata": {
        "id": "048f4f16"
      },
      "outputs": [],
      "source": [
        "def buildCityGraph(graphType):\n",
        "    g = graphType()\n",
        "    for name in ('Boston', 'Providence', 'New York', 'Chicago', 'Denver', 'Phoenix', 'Los Angeles'):\n",
        "        #Create 7 nodes\n",
        "        g.addNode(Node(name))\n",
        "    g.addEdge(Edge(g.getNode('Boston'), g.getNode('Providence')))\n",
        "    g.addEdge(Edge(g.getNode('Boston'), g.getNode('New York')))\n",
        "    g.addEdge(Edge(g.getNode('Providence'), g.getNode('Boston')))\n",
        "    g.addEdge(Edge(g.getNode('Providence'), g.getNode('New York')))\n",
        "    g.addEdge(Edge(g.getNode('New York'), g.getNode('Chicago')))\n",
        "    g.addEdge(Edge(g.getNode('Chicago'), g.getNode('Denver')))\n",
        "    g.addEdge(Edge(g.getNode('Denver'), g.getNode('Phoenix')))\n",
        "    g.addEdge(Edge(g.getNode('Denver'), g.getNode('New York')))\n",
        "    g.addEdge(Edge(g.getNode('Los Angeles'), g.getNode('Boston')))\n",
        "    return g"
      ]
    },
    {
      "cell_type": "code",
      "execution_count": null,
      "id": "8172d371",
      "metadata": {
        "id": "8172d371"
      },
      "outputs": [],
      "source": [
        "def printPath(path):\n",
        "    \"\"\"Assumes path is a list of nodes\"\"\"\n",
        "    result = ''\n",
        "    for i in range(len(path)):\n",
        "        result = result + str(path[i])\n",
        "        if i != len(path) - 1:\n",
        "            result = result + '->'\n",
        "    return result"
      ]
    },
    {
      "cell_type": "markdown",
      "id": "b5d8bbe4",
      "metadata": {
        "id": "b5d8bbe4"
      },
      "source": [
        "6. Create a method to define DFS technique"
      ]
    },
    {
      "cell_type": "code",
      "execution_count": null,
      "id": "019a8c61",
      "metadata": {
        "id": "019a8c61"
      },
      "outputs": [],
      "source": [
        "def DFS(graph, start, end, path, shortest, toPrint = False):\n",
        "    \"\"\"Assumes graph is a Digraph; start and end are nodes;\n",
        "          path and shortest are lists of nodes\n",
        "       Returns a shortest path from start to end in graph\"\"\"\n",
        "    path = path + [start]\n",
        "    if toPrint:\n",
        "        print('Current DFS path:', printPath(path))\n",
        "    if start == end:\n",
        "        return path\n",
        "    for node in graph.childrenOf(start):\n",
        "        if node not in path: #avoid cycles\n",
        "            if shortest == None or len(path) < len(shortest):\n",
        "                newPath = DFS(graph, node, end, path, shortest,\n",
        "                              toPrint)\n",
        "                if newPath != None:\n",
        "                    shortest = newPath\n",
        "        elif toPrint:\n",
        "            print('Already visited', node)\n",
        "    return shortest"
      ]
    },
    {
      "cell_type": "markdown",
      "id": "9457ef55",
      "metadata": {
        "id": "9457ef55"
      },
      "source": [
        "7. Define a shortestPath method to return the shortest path from source to destination using DFS"
      ]
    },
    {
      "cell_type": "code",
      "execution_count": null,
      "id": "e435e3ce",
      "metadata": {
        "id": "e435e3ce"
      },
      "outputs": [],
      "source": [
        "def shortestPath(graph, start, end, toPrint = False):\n",
        "    \"\"\"Assumes graph is a Digraph; start and end are nodes\n",
        "       Returns a shortest path from start to end in graph\"\"\"\n",
        "    return DFS(graph, start, end, [], None, toPrint)"
      ]
    },
    {
      "cell_type": "markdown",
      "id": "084a1713",
      "metadata": {
        "id": "084a1713"
      },
      "source": [
        "8. Create a method to test the shortest path method"
      ]
    },
    {
      "cell_type": "code",
      "execution_count": null,
      "id": "4ebad313",
      "metadata": {
        "id": "4ebad313"
      },
      "outputs": [],
      "source": [
        "def testSP(source, destination):\n",
        "    g = buildCityGraph(Digraph)\n",
        "    sp = shortestPath(g, g.getNode(source), g.getNode(destination),\n",
        "                      toPrint = True)\n",
        "    if sp != None:\n",
        "        print('Shortest path from', source, 'to',\n",
        "              destination, 'is', printPath(sp))\n",
        "    else:\n",
        "        print('There is no path from', source, 'to', destination)"
      ]
    },
    {
      "cell_type": "markdown",
      "id": "397fcad6",
      "metadata": {
        "id": "397fcad6"
      },
      "source": [
        "9. Execute the testSP method"
      ]
    },
    {
      "cell_type": "code",
      "execution_count": null,
      "id": "7b0da96e",
      "metadata": {
        "id": "7b0da96e",
        "outputId": "c04e3469-db34-440b-8444-6b07c213ce75"
      },
      "outputs": [
        {
          "name": "stdout",
          "output_type": "stream",
          "text": [
            "Current BFS path: Boston\n",
            "Current BFS path: Boston->Providence\n",
            "Current BFS path: Boston->New York\n",
            "Current BFS path: Boston->Providence->New York\n",
            "Current BFS path: Boston->New York->Chicago\n",
            "Current BFS path: Boston->Providence->New York->Chicago\n",
            "Current BFS path: Boston->New York->Chicago->Denver\n",
            "Current BFS path: Boston->Providence->New York->Chicago->Denver\n",
            "Current BFS path: Boston->New York->Chicago->Denver->Phoenix\n",
            "Shortest path from Boston to Phoenix is Boston->New York->Chicago->Denver->Phoenix\n"
          ]
        }
      ],
      "source": [
        "testSP('Boston', 'Phoenix')"
      ]
    },
    {
      "cell_type": "markdown",
      "id": "be62a0ea",
      "metadata": {
        "id": "be62a0ea"
      },
      "source": [
        "##### Question:\n",
        "    \n",
        "Describe the DFS method to compute for the shortest path using the given sample codes\n",
        "\n"
      ]
    },
    {
      "cell_type": "markdown",
      "id": "cb6ecea8",
      "metadata": {
        "id": "cb6ecea8"
      },
      "source": [
        "#### Based on the following example codes given above, DFS compute the shortest path by comparing their lengths to each other. It traverses to all possible paths and compare which is the shortest. It also uses stack and traverses verticaly, from the root node to its succeeding nodes until it is necessary to backtrack and check the other remaining nodes that are not yet visited."
      ]
    },
    {
      "cell_type": "markdown",
      "id": "7bec3a35",
      "metadata": {
        "id": "7bec3a35"
      },
      "source": [
        "10. Create a method to define BFS technique"
      ]
    },
    {
      "cell_type": "code",
      "execution_count": null,
      "id": "baddc3be",
      "metadata": {
        "id": "baddc3be"
      },
      "outputs": [],
      "source": [
        "def BFS(graph, start, end, toPrint = False):\n",
        "    \"\"\"Assumes graph is a Digraph; start and end are nodes\n",
        "       Returns a shortest path from start to end in graph\"\"\"\n",
        "    initPath = [start]\n",
        "    pathQueue = [initPath]\n",
        "    while len(pathQueue) != 0:\n",
        "        #Get and remove oldest element in pathQueue\n",
        "        tmpPath = pathQueue.pop(0)\n",
        "        if toPrint:\n",
        "            print('Current BFS path:', printPath(tmpPath))\n",
        "        lastNode = tmpPath[-1]\n",
        "        if lastNode == end:\n",
        "            return tmpPath\n",
        "        for nextNode in graph.childrenOf(lastNode):\n",
        "            if nextNode not in tmpPath:\n",
        "                newPath = tmpPath + [nextNode]\n",
        "                pathQueue.append(newPath)\n",
        "    return None"
      ]
    },
    {
      "cell_type": "markdown",
      "id": "050edf85",
      "metadata": {
        "id": "050edf85"
      },
      "source": [
        "11. Define a shortestPath method to return the shortest path from source to destination using DFS"
      ]
    },
    {
      "cell_type": "code",
      "execution_count": null,
      "id": "0a595716",
      "metadata": {
        "id": "0a595716"
      },
      "outputs": [],
      "source": [
        "def shortestPath(graph, start, end, toPrint = False):\n",
        "    \"\"\"Assumes graph is a Digraph; start and end are nodes\n",
        "       Returns a shortest path from start to end in graph\"\"\"\n",
        "    return BFS(graph, start, end, toPrint)"
      ]
    },
    {
      "cell_type": "markdown",
      "id": "abd00a05",
      "metadata": {
        "id": "abd00a05"
      },
      "source": [
        "12. Execute the testSP method"
      ]
    },
    {
      "cell_type": "code",
      "execution_count": null,
      "id": "a942ee6b",
      "metadata": {
        "id": "a942ee6b",
        "outputId": "f077214c-dcd8-47a9-cb7b-c21c28841ef7",
        "colab": {
          "base_uri": "https://localhost:8080/"
        }
      },
      "outputs": [
        {
          "output_type": "stream",
          "name": "stdout",
          "text": [
            "Current BFS path: Boston\n",
            "Current BFS path: Boston->Providence\n",
            "Current BFS path: Boston->New York\n",
            "Current BFS path: Boston->Providence->New York\n",
            "Current BFS path: Boston->New York->Chicago\n",
            "Current BFS path: Boston->Providence->New York->Chicago\n",
            "Current BFS path: Boston->New York->Chicago->Denver\n",
            "Current BFS path: Boston->Providence->New York->Chicago->Denver\n",
            "Current BFS path: Boston->New York->Chicago->Denver->Phoenix\n",
            "Shortest path from Boston to Phoenix is Boston->New York->Chicago->Denver->Phoenix\n"
          ]
        }
      ],
      "source": [
        "testSP('Boston', 'Phoenix')"
      ]
    },
    {
      "cell_type": "markdown",
      "id": "c7bbd794",
      "metadata": {
        "id": "c7bbd794"
      },
      "source": [
        "#### Question:\n",
        "    \n",
        "Describe the BFS method to compute for the shortest path using the given sample codestion:\n",
        "    \n",
        "    "
      ]
    },
    {
      "cell_type": "markdown",
      "source": [
        "#### The BFS method traverses horizontally or level by level which ensures that when you encounter the end node, it is already the shortest path. It's because BFS explores nodes based on their distance from the start node until we find the end node that is both given."
      ],
      "metadata": {
        "id": "zj-dUD2Iltz9"
      },
      "id": "zj-dUD2Iltz9"
    },
    {
      "cell_type": "markdown",
      "source": [
        "### TRYING OUT THE GIVEN CODE ABOVE"
      ],
      "metadata": {
        "id": "NDm762OQhB2a"
      },
      "id": "NDm762OQhB2a"
    },
    {
      "cell_type": "code",
      "source": [
        "def buildCityGraph(graphType):\n",
        "    g = graphType()\n",
        "    for name in ('LRT-Cubao', 'Gateway', 'Farmers Market', 'Smart Araneta Coliseum', 'New Frontier Theater', 'MRT-Cubao', 'SM Cubao', 'Ali Mall', 'Cubao Expo'):\n",
        "        #Create 7 nodes\n",
        "        g.addNode(Node(name))\n",
        "    g.addEdge(Edge(g.getNode('LRT-Cubao'), g.getNode('Gateway')))\n",
        "    g.addEdge(Edge(g.getNode('Gateway'), g.getNode('LRT-Cubao')))\n",
        "    g.addEdge(Edge(g.getNode('Gateway'), g.getNode('Farmers Market')))\n",
        "    g.addEdge(Edge(g.getNode('Gateway'), g.getNode('Smart Araneta Coliseum')))\n",
        "    g.addEdge(Edge(g.getNode('Gateway'), g.getNode('New Frontier Theater')))\n",
        "    g.addEdge(Edge(g.getNode('Farmers Market'), g.getNode('Gateway')))\n",
        "    g.addEdge(Edge(g.getNode('Farmers Market'), g.getNode('MRT-Cubao')))\n",
        "    g.addEdge(Edge(g.getNode('MRT-Cubao'), g.getNode('Farmers Market')))\n",
        "    g.addEdge(Edge(g.getNode('Smart Araneta Coliseum'), g.getNode('Farmers Market')))\n",
        "    g.addEdge(Edge(g.getNode('Smart Araneta Coliseum'), g.getNode('SM Cubao')))\n",
        "    g.addEdge(Edge(g.getNode('SM Cubao'), g.getNode('Smart Araneta Coliseum')))\n",
        "    g.addEdge(Edge(g.getNode('SM Cubao'), g.getNode('Ali Mall')))\n",
        "    g.addEdge(Edge(g.getNode('Ali Mall'), g.getNode('SM Cubao')))\n",
        "    g.addEdge(Edge(g.getNode('Ali Mall'), g.getNode('Cubao Expo')))\n",
        "    g.addEdge(Edge(g.getNode('Cubao Expo'), g.getNode('Ali Mall')))\n",
        "    return g"
      ],
      "metadata": {
        "id": "sUXU9dFzIZSp"
      },
      "id": "sUXU9dFzIZSp",
      "execution_count": null,
      "outputs": []
    },
    {
      "cell_type": "code",
      "source": [
        "def printPath(path):\n",
        "    \"\"\"Assumes path is a list of nodes\"\"\"\n",
        "    result = ''\n",
        "    for i in range(len(path)):\n",
        "        result = result + str(path[i])\n",
        "        if i != len(path) - 1:\n",
        "            result = result + ' -> '\n",
        "    return result"
      ],
      "metadata": {
        "id": "Ll2jUqG2KkUe"
      },
      "id": "Ll2jUqG2KkUe",
      "execution_count": null,
      "outputs": []
    },
    {
      "cell_type": "code",
      "source": [
        "def DFS(graph, start, end, path, shortest, toPrint = False):\n",
        "    \"\"\"Assumes graph is a Digraph; start and end are nodes;\n",
        "          path and shortest are lists of nodes\n",
        "       Returns a shortest path from start to end in graph\"\"\"\n",
        "    path = path + [start]\n",
        "    if toPrint:\n",
        "        print('Current DFS path:', printPath(path))\n",
        "    if start == end:\n",
        "        return path\n",
        "    for node in graph.childrenOf(start):\n",
        "        if node not in path: #avoid cycles\n",
        "            if shortest == None or len(path) < len(shortest):\n",
        "                newPath = DFS(graph, node, end, path, shortest,\n",
        "                              toPrint)\n",
        "                if newPath != None:\n",
        "                    shortest = newPath\n",
        "        elif toPrint:\n",
        "            print('Already visited', node)\n",
        "    return shortest"
      ],
      "metadata": {
        "id": "iQhNc0iGKo0p"
      },
      "id": "iQhNc0iGKo0p",
      "execution_count": null,
      "outputs": []
    },
    {
      "cell_type": "code",
      "source": [
        "def shortestPath(graph, start, end, toPrint = False):\n",
        "    \"\"\"Assumes graph is a Digraph; start and end are nodes\n",
        "       Returns a shortest path from start to end in graph\"\"\"\n",
        "    return DFS(graph, start, end, [], None, toPrint)"
      ],
      "metadata": {
        "id": "pgPMakZxKrht"
      },
      "id": "pgPMakZxKrht",
      "execution_count": null,
      "outputs": []
    },
    {
      "cell_type": "code",
      "source": [
        "def testSP(source, destination):\n",
        "    g = buildCityGraph(Digraph)\n",
        "    sp = shortestPath(g, g.getNode(source), g.getNode(destination),\n",
        "                      toPrint = True)\n",
        "    if sp != None:\n",
        "        print('Shortest path from', source, 'to',\n",
        "              destination, 'is', printPath(sp))\n",
        "    else:\n",
        "        print('There is no path from', source, 'to', destination)"
      ],
      "metadata": {
        "id": "otR-RL2RKuQW"
      },
      "id": "otR-RL2RKuQW",
      "execution_count": null,
      "outputs": []
    },
    {
      "cell_type": "code",
      "source": [
        "testSP('LRT-Cubao', 'MRT-Cubao')"
      ],
      "metadata": {
        "colab": {
          "base_uri": "https://localhost:8080/"
        },
        "id": "MMnhp5t8KyH-",
        "outputId": "d3401a50-8054-40b7-d646-24112905e1dd"
      },
      "id": "MMnhp5t8KyH-",
      "execution_count": null,
      "outputs": [
        {
          "output_type": "stream",
          "name": "stdout",
          "text": [
            "Current DFS path: LRT-Cubao\n",
            "Current DFS path: LRT-Cubao->Gateway\n",
            "Already visited LRT-Cubao\n",
            "Current DFS path: LRT-Cubao->Gateway->Farmers Market\n",
            "Already visited Gateway\n",
            "Current DFS path: LRT-Cubao->Gateway->Farmers Market->MRT-Cubao\n",
            "Current DFS path: LRT-Cubao->Gateway->Smart Araneta Coliseum\n",
            "Current DFS path: LRT-Cubao->Gateway->Smart Araneta Coliseum->Farmers Market\n",
            "Already visited Gateway\n",
            "Current DFS path: LRT-Cubao->Gateway->Smart Araneta Coliseum->SM Cubao\n",
            "Already visited Smart Araneta Coliseum\n",
            "Current DFS path: LRT-Cubao->Gateway->New Frontier Theater\n",
            "Shortest path from LRT-Cubao to MRT-Cubao is LRT-Cubao->Gateway->Farmers Market->MRT-Cubao\n"
          ]
        }
      ]
    },
    {
      "cell_type": "markdown",
      "id": "287801ae",
      "metadata": {
        "id": "287801ae"
      },
      "source": [
        "# Supplementary Activitiy\n",
        "* Use a specific location or city to solve transportation using graph\n",
        "* Use DFS and BFS methods to compute the shortest path\n",
        "* Display the shortest path from source to destination using DFS and BFS\n",
        "* Differentiate the performance of DFS from BFS"
      ]
    },
    {
      "cell_type": "code",
      "source": [
        "# graph\n",
        "graph = {\n",
        "    'LRT-Cubao': {'Gateway'},\n",
        "    'Gateway': {'LRT-Cubao', 'Farmers Market', 'Smart Araneta Coliseum', 'New Frontier Theater'},\n",
        "    'Farmers Market': {'MRT-Cubao', 'Gateway'},\n",
        "    'MRT-Cubao': {'Farmers Market'},\n",
        "    'Smart Araneta Coliseum': {'Farmers Market', 'SM Cubao'},\n",
        "    'SM Cubao': {'Smart Araneta Coliseum', 'Ali Mall'},\n",
        "    'Ali Mall': {'SM Cubao', 'Cubao Expo'},\n",
        "    'Cubao Expo': {'Ali Mall'},\n",
        "}\n",
        "\n",
        "# another graph for testing\n",
        "g2 = {\n",
        "  'A' : ['B','C'],\n",
        "  'B' : ['D', 'E', 'F'],\n",
        "  'C' : ['G'],\n",
        "  'D' : [],\n",
        "  'E' : [],\n",
        "  'F' : ['H'],\n",
        "  'G' : ['I'],\n",
        "  'H' : [],\n",
        "  'I' : []\n",
        "}"
      ],
      "metadata": {
        "id": "_6iUTlGVGEU1"
      },
      "id": "_6iUTlGVGEU1",
      "execution_count": null,
      "outputs": []
    },
    {
      "cell_type": "code",
      "execution_count": null,
      "id": "b7e4231f",
      "metadata": {
        "id": "b7e4231f"
      },
      "outputs": [],
      "source": [
        "# type your code here using DFS\n",
        "def dfs(graph, node):\n",
        "  visited = []\n",
        "  stack = []\n",
        "\n",
        "  visited.append(node)\n",
        "  stack.append(node)\n",
        "\n",
        "  while stack:\n",
        "    s = stack.pop() # remove last item\n",
        "    print(s, end = ' > ')\n",
        "\n",
        "    if s not in graph:\n",
        "      continue\n",
        "\n",
        "    adjacent = list(graph[s])\n",
        "    for n in reversed(adjacent):\n",
        "      if n not in visited:\n",
        "        visited.append(n)\n",
        "        stack.append(n)"
      ]
    },
    {
      "cell_type": "code",
      "source": [
        "start_node = 'LRT-Cubao'\n",
        "\n",
        "# DFS traversal\n",
        "print(\"DFS starting from\", start_node, \":\")\n",
        "dfs(graph, start_node)"
      ],
      "metadata": {
        "colab": {
          "base_uri": "https://localhost:8080/"
        },
        "id": "OwnSv2Nle9JH",
        "outputId": "62f8b386-d770-4da0-c4c0-d0c9345bc9c0"
      },
      "id": "OwnSv2Nle9JH",
      "execution_count": null,
      "outputs": [
        {
          "output_type": "stream",
          "name": "stdout",
          "text": [
            "DFS starting from LRT-Cubao :\n",
            "LRT-Cubao > Gateway > Farmers Market > MRT-Cubao > Smart Araneta Coliseum > SM Cubao > Ali Mall > Cubao Expo > New Frontier Theater > "
          ]
        }
      ]
    },
    {
      "cell_type": "code",
      "source": [
        "# using DFS to find the shortest path\n",
        "def dfs_shortest_path(graph, start, end, path=None):\n",
        "    if path is None:\n",
        "        path = []\n",
        "    path = path + [start]\n",
        "    if start == end:\n",
        "        return path\n",
        "    if start not in graph:\n",
        "        return None\n",
        "    shortest = None\n",
        "    for node in graph[start]:\n",
        "        if node not in path:\n",
        "            newpath = dfs_shortest_path(graph, node, end, path) # recursive approach\n",
        "            if newpath:\n",
        "                if not shortest or len(newpath) < len(shortest):\n",
        "                    shortest = newpath\n",
        "    return shortest"
      ],
      "metadata": {
        "id": "oiA3KHPpe9Zl"
      },
      "id": "oiA3KHPpe9Zl",
      "execution_count": null,
      "outputs": []
    },
    {
      "cell_type": "code",
      "source": [
        "start_node = 'Smart Araneta Coliseum'\n",
        "end_node = 'LRT-Cubao'\n",
        "\n",
        "print(\"Shorted path using DFS:\")\n",
        "dfs_shortest_path(graph, start_node, end_node)"
      ],
      "metadata": {
        "colab": {
          "base_uri": "https://localhost:8080/"
        },
        "id": "je_ryt89iCXx",
        "outputId": "9f775d60-d6f0-422d-8cf9-bd0d166b0828"
      },
      "id": "je_ryt89iCXx",
      "execution_count": null,
      "outputs": [
        {
          "output_type": "stream",
          "name": "stdout",
          "text": [
            "Shorted path using DFS:\n"
          ]
        },
        {
          "output_type": "execute_result",
          "data": {
            "text/plain": [
              "['Smart Araneta Coliseum', 'Farmers Market', 'Gateway', 'LRT-Cubao']"
            ]
          },
          "metadata": {},
          "execution_count": 97
        }
      ]
    },
    {
      "cell_type": "code",
      "execution_count": null,
      "id": "baecad6d",
      "metadata": {
        "id": "baecad6d"
      },
      "outputs": [],
      "source": [
        "# type your code here using BFS\n",
        "def bfs(graph, node):\n",
        "  visited = []\n",
        "  queue = []\n",
        "\n",
        "  visited.append(node)\n",
        "  queue.append(node)\n",
        "\n",
        "  while queue:\n",
        "    s = queue.pop(0) # remove first item\n",
        "    print(s, end = ' > ')\n",
        "\n",
        "    if s not in graph:\n",
        "      continue\n",
        "\n",
        "    for n in graph[s]:\n",
        "      if n not in visited:\n",
        "        visited.append(n)\n",
        "        queue.append(n)"
      ]
    },
    {
      "cell_type": "code",
      "source": [
        "start_node = 'LRT-Cubao'\n",
        "\n",
        "# BFS traversal\n",
        "print(\"BFS starting from\", start_node, \":\")\n",
        "bfs(graph, start_node)"
      ],
      "metadata": {
        "colab": {
          "base_uri": "https://localhost:8080/"
        },
        "id": "2_bQ3Q65dJ_G",
        "outputId": "7713b8d9-dd67-4bc0-83ad-8f8cbb239016"
      },
      "id": "2_bQ3Q65dJ_G",
      "execution_count": null,
      "outputs": [
        {
          "output_type": "stream",
          "name": "stdout",
          "text": [
            "BFS starting from LRT-Cubao :\n",
            "LRT-Cubao > Gateway > Farmers Market > Smart Araneta Coliseum > New Frontier Theater > MRT-Cubao > SM Cubao > Ali Mall > Cubao Expo > "
          ]
        }
      ]
    },
    {
      "cell_type": "code",
      "source": [
        "# using BFS to find the shortest path\n",
        "def bfs_shortest_path(graph, start, end):\n",
        "    queue = [(start, [start])]\n",
        "    visited = []\n",
        "\n",
        "    while queue:\n",
        "        node, path = queue.pop(0)\n",
        "\n",
        "        if node == end:\n",
        "            return path\n",
        "\n",
        "        if node not in visited:\n",
        "            visited.append(node)\n",
        "            for neighbor in graph.get(node, []):\n",
        "                if neighbor not in visited:\n",
        "                    queue.append((neighbor, path + [neighbor]))\n",
        "\n",
        "    return None"
      ],
      "metadata": {
        "id": "Ma6i7YSfe3a0"
      },
      "id": "Ma6i7YSfe3a0",
      "execution_count": null,
      "outputs": []
    },
    {
      "cell_type": "code",
      "source": [
        "start_node = 'LRT-Cubao'\n",
        "end_node = 'SM Cubao'\n",
        "\n",
        "print(\"Shorted path using BFS:\")\n",
        "bfs_shortest_path(graph, start_node, end_node)"
      ],
      "metadata": {
        "colab": {
          "base_uri": "https://localhost:8080/"
        },
        "id": "8igs_mctid15",
        "outputId": "ac5f24db-f558-4430-98f4-e982c87ba0b9"
      },
      "id": "8igs_mctid15",
      "execution_count": null,
      "outputs": [
        {
          "output_type": "stream",
          "name": "stdout",
          "text": [
            "Shorted path using BFS:\n"
          ]
        },
        {
          "output_type": "execute_result",
          "data": {
            "text/plain": [
              "['LRT-Cubao', 'Gateway', 'Smart Araneta Coliseum', 'SM Cubao']"
            ]
          },
          "metadata": {},
          "execution_count": 101
        }
      ]
    },
    {
      "cell_type": "markdown",
      "source": [
        "**GRAPH**\n",
        "\n",
        "\n",
        "*   The location I used is the malls and establishments found in Cubao where people are usually around. The image below shows the flow of the graph and the directions in which it goes from one vertex to another.\n",
        "\n"
      ],
      "metadata": {
        "id": "tG4VgY6fGk3C"
      },
      "id": "tG4VgY6fGk3C"
    },
    {
      "cell_type": "markdown",
      "source": [
        "![graph (1).png](data:image/png;base64,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)"
      ],
      "metadata": {
        "id": "iTWPDy4ALuhz"
      },
      "id": "iTWPDy4ALuhz"
    },
    {
      "cell_type": "markdown",
      "id": "a8447b32",
      "metadata": {
        "id": "a8447b32"
      },
      "source": [
        "##### DFS and BFS are both useful to know. DFS explores notes vertically which reaches deeper nodes much more faster which makes it more efficient than BFS that traverses the nodes level by level and requires more memory. They have the same intention but the other one could be better than the other."
      ]
    },
    {
      "cell_type": "markdown",
      "id": "159ad18e",
      "metadata": {
        "id": "159ad18e"
      },
      "source": [
        "#### Conclusion"
      ]
    },
    {
      "cell_type": "markdown",
      "id": "b384d644",
      "metadata": {
        "id": "b384d644"
      },
      "source": [
        "This activity helped me understand DFS and BFS. The example code in the procedures gave us a great example on how it is utilized and how it works in a coding perspective. DFS is apparently faster than BFS. However, I still quite fond of BFS for I understand it a little better than DFS and I think that I'm more confident in implementing it than DFS. Still, both have their own thing and I guess it depende on your intentions which one's to choose.\n",
        "\n",
        "I approach the supplementary activity a little different from the example codes used in the procedures to cut some length to it. I used a dictionary to represent my graph. Some errors I encounter while doing this activity is the initialization of list and because the graph I used is directed, I also encountered some problems that a conditional statement solved. I still learned a lot from this HOA and it made me understand how graph works more and actually doing something with it."
      ]
    }
  ],
  "metadata": {
    "kernelspec": {
      "display_name": "Python 3",
      "language": "python",
      "name": "python3"
    },
    "language_info": {
      "codemirror_mode": {
        "name": "ipython",
        "version": 3
      },
      "file_extension": ".py",
      "mimetype": "text/x-python",
      "name": "python",
      "nbconvert_exporter": "python",
      "pygments_lexer": "ipython3",
      "version": "3.7.10"
    },
    "colab": {
      "provenance": []
    }
  },
  "nbformat": 4,
  "nbformat_minor": 5
}