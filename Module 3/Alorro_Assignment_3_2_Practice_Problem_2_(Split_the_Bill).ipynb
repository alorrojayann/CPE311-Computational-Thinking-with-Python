{
  "nbformat": 4,
  "nbformat_minor": 0,
  "metadata": {
    "colab": {
      "provenance": []
    },
    "kernelspec": {
      "name": "python3",
      "display_name": "Python 3"
    },
    "language_info": {
      "name": "python"
    }
  },
  "cells": [
    {
      "cell_type": "markdown",
      "source": [
        "## **Assignment 3.2 Practice Problem 2 (Split the Bill)**"
      ],
      "metadata": {
        "id": "COfqrXNnccBH"
      }
    },
    {
      "cell_type": "code",
      "source": [
        "grp_num, = map(int, input(\"Enter # of People: \").split())\n",
        "transaction_num = int(input(\"Enter # of Transactions : \"))\n",
        "# keep the balance of all people in grp in check, must be all 0 in the end\n",
        "balance = [0 for i in range(grp_num)]\n",
        "\n",
        "# id and transaction input\n",
        "for t in range(transaction_num):\n",
        "    transaction_id = input(\"Enter transaction name: \")\n",
        "    paid_by, split_as = map(int, input(\"# of Payee and Payer: \").split())\n",
        "\n",
        "    for i in range(paid_by):\n",
        "        p_id, amount = map(int, input(\"Person ID and Amount: \").split())\n",
        "        balance[p_id - 1] -= amount\n",
        "\n",
        "    for i in range(split_as):\n",
        "        p_id, amount = map(int, input(\"Person ID and Amount: \").split())\n",
        "        balance[p_id - 1] += amount\n",
        "\n",
        "result = []  # \"the shortest path\"\n",
        "payee = 0\n",
        "\n",
        "for payer in range(grp_num):\n",
        "    if balance[payer] > 0:\n",
        "        current_bal = balance[payer]\n",
        "        while current_bal > 0 and payee < grp_num:\n",
        "            if balance[payee] >= 0:\n",
        "                payee += 1\n",
        "                continue\n",
        "            minimum_bal = min(current_bal, abs(balance[payee]))\n",
        "            current_bal -= minimum_bal # update remaining balance transfer\n",
        "            balance[payee] += minimum_bal # adds minimum_bal to balance[payee]\n",
        "            result.append([[payer + 1, payee + 1], minimum_bal]) # adds to result list\n",
        "\n",
        "print(\"\\nResult:\")\n",
        "for i in range(len(result)):\n",
        "    print(result[i][0][0], result[i][0][1], result[i][1])"
      ],
      "metadata": {
        "id": "BWFv9IEJkJNN",
        "colab": {
          "base_uri": "https://localhost:8080/"
        },
        "outputId": "6f45d28a-6b52-404d-c348-ca54f5f6c87f"
      },
      "execution_count": 2,
      "outputs": [
        {
          "output_type": "stream",
          "name": "stdout",
          "text": [
            "Enter # of People: 6\n",
            "Enter # of Transactions : 5\n",
            "Enter transaction name: #itsmylife\n",
            "# of Payee and Payer: 2 3\n",
            "Person ID and Amount: 1 25\n",
            "Person ID and Amount: 3 15\n",
            "Person ID and Amount: 4 10\n",
            "Person ID and Amount: 5 25\n",
            "Person ID and Amount: 6 5\n",
            "Enter transaction name: #itsnow\n",
            "# of Payee and Payer: 1 4\n",
            "Person ID and Amount: 4 100\n",
            "Person ID and Amount: 1 25\n",
            "Person ID and Amount: 2 25\n",
            "Person ID and Amount: 3 25\n",
            "Person ID and Amount: 4 25\n",
            "Enter transaction name: #ornever\n",
            "# of Payee and Payer: 2 2\n",
            "Person ID and Amount: 5 30\n",
            "Person ID and Amount: 3 10\n",
            "Person ID and Amount: 1 25\n",
            "Person ID and Amount: 4 15\n",
            "Enter transaction name: #iaintgonna\n",
            "# of Payee and Payer: 1 3\n",
            "Person ID and Amount: 2 150\n",
            "Person ID and Amount: 1 50\n",
            "Person ID and Amount: 2 50\n",
            "Person ID and Amount: 3 50\n",
            "Enter transaction name: #liveforever\n",
            "# of Payee and Payer: 2 2\n",
            "Person ID and Amount: 5 13\n",
            "Person ID and Amount: 6 25\n",
            "Person ID and Amount: 4 25\n",
            "Person ID and Amount: 1 13\n",
            "\n",
            "Result:\n",
            "1 2 75\n",
            "1 4 13\n",
            "3 4 12\n",
            "3 5 18\n",
            "3 6 20\n"
          ]
        }
      ]
    }
  ]
}