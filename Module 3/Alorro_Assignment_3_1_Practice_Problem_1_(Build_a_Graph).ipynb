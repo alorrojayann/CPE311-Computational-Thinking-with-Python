{
  "nbformat": 4,
  "nbformat_minor": 0,
  "metadata": {
    "colab": {
      "provenance": []
    },
    "kernelspec": {
      "name": "python3",
      "display_name": "Python 3"
    },
    "language_info": {
      "name": "python"
    }
  },
  "cells": [
    {
      "cell_type": "markdown",
      "source": [
        "# **Assignment 3.1 Practice Problem 1 (Build a Graph)**\n",
        "\n",
        "**Problem**\n",
        "\n",
        "You are given an integer n. Determine if there is an unconnected graph with n vertices that contains at least two connected components and contains the number of edges that is equal to the number of vertices. Each vertex must follow one of these conditions:\n",
        "\n",
        "1. Its degree is less than or equal to 1.\n",
        "2. It's a cut-vertex.\n",
        "\n",
        "**Note:**\n",
        "\n",
        "\n",
        "*   The graph must be simple.\n",
        "*   Loops and multiple edges are not allowed.\n",
        "\n",
        "**Input Format**\n",
        "\n",
        "\n",
        "*   First line: n.\n",
        "\n",
        "**Output Format**\n",
        "\n",
        "\n",
        "*   Print Yes if it is an unconnected graph. Otherwise, print No.\n",
        "\n",
        "\n",
        "\n",
        "**Constraints**\n",
        "\n",
        "\n",
        "*   1 <= n <= 100"
      ],
      "metadata": {
        "id": "xgze8ygVSaFH"
      }
    },
    {
      "cell_type": "code",
      "execution_count": null,
      "metadata": {
        "id": "SUOEJznUSQgh"
      },
      "outputs": [],
      "source": [
        "class Graph(object):\n",
        "\n",
        "    def __init__(self, graph_dict=None):\n",
        "        if graph_dict == None:\n",
        "            graph_dict = {}\n",
        "        self._graph_dict = graph_dict\n",
        "\n",
        "    def edges(self, vertice):\n",
        "        return self._graph_dict[vertice]\n",
        "\n",
        "    def all_vertices(self):\n",
        "        return set(self._graph_dict.keys())\n",
        "\n",
        "    def all_edges(self):\n",
        "        return self.__generate_edges()\n",
        "\n",
        "    def add_vertex(self, vertex):\n",
        "        if vertex not in self._graph_dict:\n",
        "            self._graph_dict[vertex] = []\n",
        "\n",
        "    def add_edge(self, edge):\n",
        "        edge = set(edge)\n",
        "        vertex1, vertex2 = tuple(edge)\n",
        "        for x, y in [(vertex1, vertex2), (vertex2, vertex1)]:\n",
        "            if x in self._graph_dict:\n",
        "                self._graph_dict[x].add(y)\n",
        "            else:\n",
        "                self._graph_dict[x] = [y]\n",
        "\n",
        "    def __generate_edges(self):\n",
        "        edges = []\n",
        "        for vertex in self._graph_dict:\n",
        "            for neighbour in self._graph_dict[vertex]:\n",
        "                if {neighbour, vertex} not in edges:\n",
        "                    edges.append({vertex, neighbour})\n",
        "        return edges\n",
        "\n",
        "    def __iter__(self):\n",
        "        self._iter_obj = iter(self._graph_dict)\n",
        "        return self._iter_obj\n",
        "\n",
        "    def __next__(self):\n",
        "        \"\"\" allows us to iterate over the vertices \"\"\"\n",
        "        return next(self._iter_obj)\n",
        "\n",
        "    def __str__(self):\n",
        "        res = \"vertices: \"\n",
        "        for k in self._graph_dict:\n",
        "            res += str(k) + \" \"\n",
        "        res += \"\\nedges: \"\n",
        "        for edge in self.__generate_edges():\n",
        "            res += str(edge) + \" \"\n",
        "        return res"
      ]
    },
    {
      "cell_type": "code",
      "source": [
        "# 1 <= n <= 100 (constraint)\n",
        "def unconnected_checker(graph):\n",
        "    if len(graph.all_vertices()) == 1:\n",
        "        return \"No\"  # no multiple connected components\n",
        "\n",
        "    visited = set()\n",
        "    connected_components = 0\n",
        "\n",
        "    def dfs(vertex):\n",
        "      visited.add(vertex)\n",
        "      for neighbour in graph.edges(vertex):\n",
        "        if neighbour not in visited:\n",
        "          dfs(neighbour)\n",
        "\n",
        "    for vertex in graph.all_vertices():\n",
        "        if vertex not in visited:\n",
        "            dfs(vertex)\n",
        "            connected_components += 1\n",
        "\n",
        "    if connected_components >= 2:\n",
        "        return \"Yes\"\n",
        "    else:\n",
        "        return \"No\""
      ],
      "metadata": {
        "id": "a5ewxt-NJUQ3"
      },
      "execution_count": null,
      "outputs": []
    },
    {
      "cell_type": "code",
      "source": [
        "\"\"\"\n",
        "\n",
        "a ----- b\n",
        "|       |\n",
        "|       |\n",
        "c ----- d\n",
        "\n",
        "\"\"\"\n",
        "g = {\n",
        "    'a': {'b', 'c'},\n",
        "    'b': {'a', 'd'},\n",
        "    'c': {'a', 'd'},\n",
        "    'd': {'b', 'c'}\n",
        "}\n",
        "\n",
        "\"\"\"\n",
        "\n",
        "a ---- b    e ---- f\n",
        "|      |    |      |\n",
        "|      |    |      |\n",
        "c      d    g      h\n",
        "\n",
        "\"\"\"\n",
        "g2 = {\n",
        "    'a': {'b', 'c'},\n",
        "    'b': {'a', 'd'},\n",
        "    'c': {'a'},\n",
        "    'd': {'b'},\n",
        "    'e': {'f', 'g'},\n",
        "    'f': {'e', 'h'},\n",
        "    'g': {'e'},\n",
        "    'h': {'f'}\n",
        "}\n",
        "\n",
        "g3 = {\n",
        "    'a': {'b', 'c'},\n",
        "    'b': {'a'},\n",
        "    'c': {'a'},\n",
        "    'd': { },\n",
        "    'e': {'f'},\n",
        "    'f': {'e'},\n",
        "    'g': { },\n",
        "    'h': { }\n",
        "}\n",
        "\n",
        "g4 = {\n",
        "    'a': {'b'},  # Vertex 'a' has degree 1\n",
        "    'b': {'a'},  # Vertex 'b' has degree 1\n",
        "    'c': {},     # Vertex 'c' has degree 0\n",
        "}"
      ],
      "metadata": {
        "id": "Hc7Nx6FbfPNN"
      },
      "execution_count": null,
      "outputs": []
    },
    {
      "cell_type": "code",
      "source": [
        "graph = Graph(g)\n",
        "result = unconnected_checker(graph)\n",
        "\n",
        "\n",
        "for vertice in graph:\n",
        "  print(f\"Edges of vertice {vertice}: \", graph.edges(vertice))\n",
        "\n",
        "print(\"\\nVertices of graph:\")\n",
        "print(graph.all_vertices())\n",
        "\n",
        "print(\"\\nEdges of graph:\")\n",
        "print(graph.all_edges())\n",
        "\n",
        "print(\"\\nUnconnected Graph Checker:\")\n",
        "print(result)"
      ],
      "metadata": {
        "colab": {
          "base_uri": "https://localhost:8080/"
        },
        "id": "2Gfh4OjjWzFe",
        "outputId": "b6b7e390-e1b8-4b42-da73-aadce663af18"
      },
      "execution_count": null,
      "outputs": [
        {
          "output_type": "stream",
          "name": "stdout",
          "text": [
            "Edges of vertice a:  {'b', 'c'}\n",
            "Edges of vertice b:  {'d', 'a'}\n",
            "Edges of vertice c:  {'d', 'a'}\n",
            "Edges of vertice d:  {'b', 'c'}\n",
            "\n",
            "Vertices of graph:\n",
            "{'d', 'b', 'a', 'c'}\n",
            "\n",
            "Edges of graph:\n",
            "[{'b', 'a'}, {'a', 'c'}, {'d', 'b'}, {'d', 'c'}]\n",
            "\n",
            "Unconnected Graph Checker:\n",
            "No\n"
          ]
        }
      ]
    },
    {
      "cell_type": "code",
      "source": [
        "graph = Graph(g2)\n",
        "result = unconnected_checker(graph)\n",
        "\n",
        "\n",
        "for vertice in graph:\n",
        "  print(f\"Edges of vertice {vertice}: \", graph.edges(vertice))\n",
        "\n",
        "print(\"\\nVertices of graph:\")\n",
        "print(graph.all_vertices())\n",
        "\n",
        "print(\"\\nEdges of graph:\")\n",
        "print(graph.all_edges())\n",
        "\n",
        "print(\"\\nUnconnected Graph Checker:\")\n",
        "print(result)"
      ],
      "metadata": {
        "colab": {
          "base_uri": "https://localhost:8080/"
        },
        "id": "iqXXEVunq9Qs",
        "outputId": "4ba95b32-06a6-4b00-b54d-5475897f5dab"
      },
      "execution_count": null,
      "outputs": [
        {
          "output_type": "stream",
          "name": "stdout",
          "text": [
            "Edges of vertice a:  {'b', 'c'}\n",
            "Edges of vertice b:  {'d', 'a'}\n",
            "Edges of vertice c:  {'a'}\n",
            "Edges of vertice d:  {'b'}\n",
            "Edges of vertice e:  {'f', 'g'}\n",
            "Edges of vertice f:  {'h', 'e'}\n",
            "Edges of vertice g:  {'e'}\n",
            "Edges of vertice h:  {'f'}\n",
            "\n",
            "Vertices of graph:\n",
            "{'f', 'h', 'd', 'c', 'e', 'g', 'b', 'a'}\n",
            "\n",
            "Edges of graph:\n",
            "[{'b', 'a'}, {'a', 'c'}, {'d', 'b'}, {'f', 'e'}, {'g', 'e'}, {'h', 'f'}]\n",
            "\n",
            "Unconnected Graph Checker:\n",
            "Yes\n"
          ]
        }
      ]
    },
    {
      "cell_type": "code",
      "source": [
        "graph = Graph(g3)\n",
        "result = unconnected_checker(graph)\n",
        "\n",
        "\n",
        "for vertice in graph:\n",
        "  print(f\"Edges of vertice {vertice}: \", graph.edges(vertice))\n",
        "\n",
        "print(\"\\nVertices of graph:\")\n",
        "print(graph.all_vertices())\n",
        "\n",
        "print(\"\\nEdges of graph:\")\n",
        "print(graph.all_edges())\n",
        "\n",
        "print(\"\\nUnconnected Graph Checker:\")\n",
        "print(result)"
      ],
      "metadata": {
        "colab": {
          "base_uri": "https://localhost:8080/"
        },
        "id": "eLgFd9uaq9io",
        "outputId": "8bedab1a-53fc-4f24-cb58-5a5c69a67586"
      },
      "execution_count": null,
      "outputs": [
        {
          "output_type": "stream",
          "name": "stdout",
          "text": [
            "Edges of vertice a:  {'b', 'c'}\n",
            "Edges of vertice b:  {'a'}\n",
            "Edges of vertice c:  {'a'}\n",
            "Edges of vertice d:  {}\n",
            "Edges of vertice e:  {'f'}\n",
            "Edges of vertice f:  {'e'}\n",
            "Edges of vertice g:  {}\n",
            "Edges of vertice h:  {}\n",
            "\n",
            "Vertices of graph:\n",
            "{'f', 'h', 'd', 'c', 'e', 'g', 'b', 'a'}\n",
            "\n",
            "Edges of graph:\n",
            "[{'b', 'a'}, {'a', 'c'}, {'f', 'e'}]\n",
            "\n",
            "Unconnected Graph Checker:\n",
            "Yes\n"
          ]
        }
      ]
    },
    {
      "cell_type": "code",
      "source": [
        "graph = Graph(g4)\n",
        "result = unconnected_checker(graph)\n",
        "\n",
        "\n",
        "for vertice in graph:\n",
        "  print(f\"Edges of vertice {vertice}: \", graph.edges(vertice))\n",
        "\n",
        "print(\"\\nVertices of graph:\")\n",
        "print(graph.all_vertices())\n",
        "\n",
        "print(\"\\nEdges of graph:\")\n",
        "print(graph.all_edges())\n",
        "\n",
        "print(\"\\nUnconnected Graph Checker:\")\n",
        "print(result)"
      ],
      "metadata": {
        "colab": {
          "base_uri": "https://localhost:8080/"
        },
        "id": "Vai_9GgMq9zy",
        "outputId": "fdc2e602-385c-4224-eb99-e7e2b75ac17e"
      },
      "execution_count": null,
      "outputs": [
        {
          "output_type": "stream",
          "name": "stdout",
          "text": [
            "Edges of vertice a:  {'b'}\n",
            "Edges of vertice b:  {'a'}\n",
            "Edges of vertice c:  {}\n",
            "\n",
            "Vertices of graph:\n",
            "{'b', 'a', 'c'}\n",
            "\n",
            "Edges of graph:\n",
            "[{'b', 'a'}]\n",
            "\n",
            "Unconnected Graph Checker:\n",
            "Yes\n"
          ]
        }
      ]
    }
  ]
}